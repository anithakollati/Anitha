{
 "cells": [
  {
   "cell_type": "code",
   "execution_count": null,
   "id": "c41be5d8",
   "metadata": {},
   "outputs": [
    {
     "name": "stdout",
     "output_type": "stream",
     "text": [
      "-------------------------------------------->>>>>Welcome to Online Food App <<<<<-------------------------------------------------\n",
      "\n",
      "+=+=+=+=+=+=+=+=+=+=+=+=+=+=+=+=+=+=+=+=+=+=+=+=+=+=+=+=+=+=+=+=+=+=+=+=+=+=+=+=+=+=+=+=+=+=+=+=+=+=\n",
      "------>>>>>Press P 👉👉 For Place New Order\n",
      "------>>>>>Press U 👉👉 For Update Profile\n",
      "------>>>>>Press H 👉👉 For Get History From App\n",
      "------>>>>>Press E 👉👉 For Exit From App\n",
      "--------------------------------------------------------\n"
     ]
    }
   ],
   "source": [
    "import sys\n",
    "import time\n",
    "import json\n",
    "\n",
    "print(\"-------------------------------------------->>>>>Welcome to Online Food App <<<<<-------------------------------------------------\\n\")\n",
    "time.sleep(5)\n",
    "\n",
    "while True:\n",
    "    l = []\n",
    "    rs = 0\n",
    "    order_history = {}\n",
    "    print(\"+=\" * 50)\n",
    "    print(\"------>>>>>Press P 👉👉 For Place New Order\")\n",
    "    print(\"------>>>>>Press U 👉👉 For Update Profile\")\n",
    "    print(\"------>>>>>Press H 👉👉 For Get History From App\")\n",
    "    print(\"------>>>>>Press E 👉👉 For Exit From App\")\n",
    "    print(\"--------------------------------------------------------\")\n",
    "    user_input = input(\"Press Button :\")\n",
    "    if user_input == \"P\" or user_input == \"p\":\n",
    "        with open(\"Food Item.json\", \"r\") as f:\n",
    "            temp = json.load(f)\n",
    "        print(\"1.\", temp[\"1\"][\"Quantity\"], \" \", temp[\"1\"][\"Food Name\"], \"..........................\",\n",
    "              temp[\"1\"][\"Price\"], \"Rupee\")\n",
    "        print(\"2.\", temp[\"2\"][\"Quantity\"], \" \", temp[\"2\"][\"Food Name\"], \"..........................\",\n",
    "              temp[\"2\"][\"Price\"], \"Rupee\")\n",
    "        print(\"3.\", temp[\"3\"][\"Quantity\"], \" \", temp[\"3\"][\"Food Name\"], \"..........................\",\n",
    "              temp[\"3\"][\"Price\"], \"Rupee\")\n",
    "        print(\"Press 0 for End \")\n",
    "        print()\n",
    "        print(\"------------------------->>>>>Press 999 For Place Your Order <<<<------------------------\")\n",
    "        ch = 1\n",
    "        while ch != 0:\n",
    "            ch = int(input(\" Press Button For Order----> \"))\n",
    "            if ch == 1:\n",
    "                rs += 240\n",
    "                l.append(temp[\"1\"][\"Food Name\"])\n",
    "\n",
    "            elif ch == 2:\n",
    "                rs += 320\n",
    "                l.append(temp[\"2\"][\"Food Name\"])\n",
    "\n",
    "            elif ch == 3:\n",
    "                rs += 900\n",
    "                l.append(temp[\"3\"][\"Food Name\"])\n",
    "\n",
    "            elif ch == 999:\n",
    "                print(l)\n",
    "                order_history = {\"Order History\": l, \"Total Bill\": rs}\n",
    "                with open(\"Payment.json\", \"w\") as f:\n",
    "                    json.dump(order_history, f, indent=5)\n",
    "                time.sleep(2)\n",
    "                print(\"Total Bill : - \", rs)\n",
    "                print(\" ****************Your Order Got Placed*****************\")\n",
    "                print(\"You'll Get Your Order Soon\")\n",
    "                print()\n",
    "                print(\"******************Thanks For Using Online Food App********************\")\n",
    "                break\n",
    "\n",
    "    elif user_input == \"H\" or user_input == \"h\":\n",
    "        with open(\"Payment.json\", \"r\") as f:\n",
    "            temp = json.load(f)\n",
    "            print(temp)\n",
    "\n",
    "    elif user_input == \"U\" or user_input == \"u\":\n",
    "        demo1.update_profile()\n",
    "\n",
    "    elif user_input == \"E\" or user_input == \"e\":\n",
    "        time.sleep(3)\n",
    "        print(\"*-*-*-*-*-*-*-*-*Thanks For Using Online Food App*-*-*-*-*-*-*-*-*\")\n",
    "        sys.exit()"
   ]
  },
  {
   "cell_type": "code",
   "execution_count": null,
   "id": "e864615f",
   "metadata": {},
   "outputs": [],
   "source": []
  }
 ],
 "metadata": {
  "kernelspec": {
   "display_name": "Python 3 (ipykernel)",
   "language": "python",
   "name": "python3"
  },
  "language_info": {
   "codemirror_mode": {
    "name": "ipython",
    "version": 3
   },
   "file_extension": ".py",
   "mimetype": "text/x-python",
   "name": "python",
   "nbconvert_exporter": "python",
   "pygments_lexer": "ipython3",
   "version": "3.9.13"
  }
 },
 "nbformat": 4,
 "nbformat_minor": 5
}
