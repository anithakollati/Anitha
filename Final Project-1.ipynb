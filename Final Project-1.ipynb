{
 "cells": [
  {
   "cell_type": "markdown",
   "id": "bef770bb",
   "metadata": {},
   "source": [
    "# Food Ordering App for a Restaurant"
   ]
  },
  {
   "cell_type": "code",
   "execution_count": null,
   "id": "1f416452",
   "metadata": {},
   "outputs": [
    {
     "name": "stdout",
     "output_type": "stream",
     "text": [
      "Enter Food Item Name: Tandoori Chicken\n",
      "Enter Food Quantity is: 1\n",
      "Enter Food Price is: 240\n",
      "Enter Food Stock is: 3\n",
      "Enter Food Discount is: 100\n",
      "{1: {'Food Name': 'Tandoori Chicken', 'Quantity': 1, 'Price': 240, 'Stock': 3, 'Discount': 100}}\n"
     ]
    }
   ],
   "source": [
    "from datetime import datetime\n",
    "import random\n",
    "import time\n",
    "import json\n",
    "import sys\n",
    "\n",
    "class Admin:\n",
    "    def __init__(self):\n",
    "        self.food_item = {}\n",
    "        self.food_id = len(self.food_item) + 1\n",
    "        self.food_item = {}\n",
    "\n",
    "\n",
    "    def new_food_item(self):\n",
    "        self.name = input(\"Enter Food Item Name: \")\n",
    "        self.quantity = int(input(\"Enter Food Quantity is: \"))\n",
    "        self.price = int(input(\"Enter Food Price is: \"))\n",
    "        self.stock = int(input(\"Enter Food Stock is: \"))\n",
    "        self.discount = int(input(\"Enter Food Discount is: \"))\n",
    "        self.item = {\"Food Name\": self.name, \"Quantity\": self.quantity, \"Price\": self.price, \"Stock\": self.stock, \"Discount\": self.discount}\n",
    "        self.food_id = len(self.food_item) + 1\n",
    "        self.food_item[self.food_id] = self.item\n",
    "        with open(\"Food Item.json\", \"w\") as f:\n",
    "            json.dump(self.food_item, f, indent=5)\n",
    "        return self.food_item\n",
    "\n",
    "    def edit_food_item(self):\n",
    "        self.food_item[1][\"Food Name\"] = \"Tandoori Chicken\"\n",
    "        self.food_item[1][\"Quantity\"] = 1\n",
    "        self.food_item[1][\"Price\"] = 240\n",
    "        self.food_item[1][\"Stock\"] = 100\n",
    "        self.food_item[1][\"Discount\"] = 3\n",
    "        return self.food_item[1]\n",
    "\n",
    "    def view_food_item(self):\n",
    "        return list(self.food_item.items())\n",
    "\n",
    "    def remove_food_item(self):\n",
    "        food_item = int(input(\"I want remove Food ID: \"))\n",
    "        del self.food_item[food_item]\n",
    "        self.food_id = len(self.food_item) + 1\n",
    "        print(\"Updated Food Item is: \", self.food_item)\n",
    "        with open(\"Food Item.json\", \"w\") as f:\n",
    "            json.dump(self.food_item, f, indent=5)\n",
    "        return \"\"\n",
    "\n",
    "\n",
    "c = Admin()\n",
    "print(c.new_food_item())\n",
    "print(c.new_food_item())\n",
    "print(c.new_food_item())\n",
    "print(c.new_food_item())\n",
    "print(\"************************\")\n",
    "print(c.edit_food_item())\n",
    "print(\"************************\")\n",
    "print(\"List of Food Items:\", c.view_food_item())\n",
    "print(\"************************\")\n",
    "print(c.remove_food_item())\n",
    "print(\"************************\")\n",
    "print(\"Updated List of Food Items:\", c.view_food_item())\n",
    "\n",
    "print(\"\\t\\t\\t  ******Thank You Visit...!  \\t\\t\\t\")"
   ]
  }
 ],
 "metadata": {
  "kernelspec": {
   "display_name": "Python 3 (ipykernel)",
   "language": "python",
   "name": "python3"
  },
  "language_info": {
   "codemirror_mode": {
    "name": "ipython",
    "version": 3
   },
   "file_extension": ".py",
   "mimetype": "text/x-python",
   "name": "python",
   "nbconvert_exporter": "python",
   "pygments_lexer": "ipython3",
   "version": "3.9.13"
  }
 },
 "nbformat": 4,
 "nbformat_minor": 5
}
