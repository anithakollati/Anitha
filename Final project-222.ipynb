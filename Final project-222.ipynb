{
 "cells": [
  {
   "cell_type": "code",
   "execution_count": 2,
   "id": "c2cd85d7",
   "metadata": {},
   "outputs": [
    {
     "data": {
      "text/plain": [
       "{'1': {'Food Name': '\"Thandoori Chicken\"',\n",
       "  'Quantity': 100,\n",
       "  'Price': 240,\n",
       "  'Stock': 3,\n",
       "  'Discount': 100},\n",
       " '2': {'Food Name': '\"Vegan Burger\"',\n",
       "  'Quantity': 250,\n",
       "  'Price': 320,\n",
       "  'Stock': 4,\n",
       "  'Discount': 150},\n",
       " '3': {'Food Name': '\"Truffle Cacke\"',\n",
       "  'Quantity': 450,\n",
       "  'Price': 900,\n",
       "  'Stock': 11,\n",
       "  'Discount': 420}}"
      ]
     },
     "execution_count": 2,
     "metadata": {},
     "output_type": "execute_result"
    }
   ],
   "source": [
    "{\n",
    "     \"1\": {\n",
    "          \"Food Name\": \"\\\"Thandoori Chicken\\\"\",\n",
    "          \"Quantity\": 100,\n",
    "          \"Price\": 240,\n",
    "          \"Stock\": 3,\n",
    "          \"Discount\": 100\n",
    "     },\n",
    "     \"2\": {\n",
    "          \"Food Name\": \"\\\"Vegan Burger\\\"\",\n",
    "          \"Quantity\": 250,\n",
    "          \"Price\": 320,\n",
    "          \"Stock\": 4,\n",
    "          \"Discount\": 150\n",
    "     },\n",
    "     \"3\": {\n",
    "          \"Food Name\": \"\\\"Truffle Cacke\\\"\",\n",
    "          \"Quantity\": 450,\n",
    "          \"Price\": 900,\n",
    "          \"Stock\": 11,\n",
    "          \"Discount\": 420\n",
    "     }\n",
    "}"
   ]
  },
  {
   "cell_type": "code",
   "execution_count": null,
   "id": "9f7ce3ef",
   "metadata": {},
   "outputs": [],
   "source": []
  }
 ],
 "metadata": {
  "kernelspec": {
   "display_name": "Python 3 (ipykernel)",
   "language": "python",
   "name": "python3"
  },
  "language_info": {
   "codemirror_mode": {
    "name": "ipython",
    "version": 3
   },
   "file_extension": ".py",
   "mimetype": "text/x-python",
   "name": "python",
   "nbconvert_exporter": "python",
   "pygments_lexer": "ipython3",
   "version": "3.9.13"
  }
 },
 "nbformat": 4,
 "nbformat_minor": 5
}
