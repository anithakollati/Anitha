{
 "cells": [
  {
   "cell_type": "code",
   "execution_count": 1,
   "id": "d15b3a63",
   "metadata": {},
   "outputs": [
    {
     "data": {
      "text/plain": [
       "{'1': {'Name': 'Anitha',\n",
       "  'Mobile': 9963469979,\n",
       "  'Address': 'Vijayawada',\n",
       "  'Email ID': 'anithakollati964@gmail.com',\n",
       "  'Password': '@Nitha724'}}"
      ]
     },
     "execution_count": 1,
     "metadata": {},
     "output_type": "execute_result"
    }
   ],
   "source": [
    "{\n",
    "    \"1\": {\n",
    "        \"Name\": \"Anitha\",\n",
    "        \"Mobile\": 9963469979,\n",
    "        \"Address\": \"Vijayawada\",\n",
    "        \"Email ID\": \"anithakollati964@gmail.com\",\n",
    "        \"Password\": \"@Nitha724\"\n",
    "    }\n",
    "}\n"
   ]
  },
  {
   "cell_type": "code",
   "execution_count": null,
   "id": "fe203363",
   "metadata": {},
   "outputs": [],
   "source": []
  }
 ],
 "metadata": {
  "kernelspec": {
   "display_name": "Python 3 (ipykernel)",
   "language": "python",
   "name": "python3"
  },
  "language_info": {
   "codemirror_mode": {
    "name": "ipython",
    "version": 3
   },
   "file_extension": ".py",
   "mimetype": "text/x-python",
   "name": "python",
   "nbconvert_exporter": "python",
   "pygments_lexer": "ipython3",
   "version": "3.9.13"
  }
 },
 "nbformat": 4,
 "nbformat_minor": 5
}
