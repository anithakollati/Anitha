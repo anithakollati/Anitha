{
 "cells": [
  {
   "cell_type": "code",
   "execution_count": 2,
   "id": "0bf6d92b",
   "metadata": {},
   "outputs": [
    {
     "data": {
      "text/plain": [
       "{'Order History': ['Thandoori Chicken', 'Vegan Burger', 'Truffle Cake'],\n",
       " 'Total Bill': 1460}"
      ]
     },
     "execution_count": 2,
     "metadata": {},
     "output_type": "execute_result"
    }
   ],
   "source": [
    "{\n",
    "    \"Order History\": [\n",
    "         \"Thandoori Chicken\",\n",
    "         \"Vegan Burger\",\n",
    "         \"Truffle Cake\"\n",
    "    ],\n",
    "    \"Total Bill\": 1460\n",
    "}"
   ]
  },
  {
   "cell_type": "code",
   "execution_count": null,
   "id": "dfe8d846",
   "metadata": {},
   "outputs": [],
   "source": []
  }
 ],
 "metadata": {
  "kernelspec": {
   "display_name": "Python 3 (ipykernel)",
   "language": "python",
   "name": "python3"
  },
  "language_info": {
   "codemirror_mode": {
    "name": "ipython",
    "version": 3
   },
   "file_extension": ".py",
   "mimetype": "text/x-python",
   "name": "python",
   "nbconvert_exporter": "python",
   "pygments_lexer": "ipython3",
   "version": "3.9.13"
  }
 },
 "nbformat": 4,
 "nbformat_minor": 5
}
